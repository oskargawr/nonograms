{
 "cells": [
  {
   "cell_type": "code",
   "execution_count": 1,
   "metadata": {},
   "outputs": [],
   "source": [
    "import numpy as np\n",
    "import pygad\n",
    "import json\n",
    "import matplotlib.pyplot as plt\n",
    "from nonograms import Nonogram"
   ]
  },
  {
   "cell_type": "code",
   "execution_count": 188,
   "metadata": {},
   "outputs": [],
   "source": [
    "# def run_experiments(\n",
    "#     nonograms,\n",
    "#     fitness_funcs,\n",
    "#     num_generations,\n",
    "#     sol_per_pop,\n",
    "#     mutation_percent_genes,\n",
    "#     num_parents_mating,\n",
    "# ):\n",
    "#     results = {}\n",
    "#     for fitness_func in fitness_funcs:\n",
    "#         results[fitness_func] = []\n",
    "#         for nonogram_data in nonograms:\n",
    "#             columns = nonogram_data[\"columns\"]\n",
    "#             rows = nonogram_data[\"rows\"]\n",
    "#             sol = nonogram_data[\"solution\"]\n",
    "#             nonogram = Nonogram(columns, rows, sol)\n",
    "#             result = nonogram.runGA(\n",
    "#                 fitness_func,\n",
    "#                 num_generations,\n",
    "#                 sol_per_pop,\n",
    "#                 mutation_percent_genes,\n",
    "#                 num_parents_mating,\n",
    "#             )\n",
    "#             results[fitness_func].append(result)\n",
    "#     return results"
   ]
  },
  {
   "cell_type": "code",
   "execution_count": 30,
   "metadata": {},
   "outputs": [],
   "source": [
    "# non_duck = Nonogram(\n",
    "#     [[1, 2], [3, 1], [1, 5], [7, 1], [5], [3], [4], [3], [0]],\n",
    "#     [[3], [2, 1], [3, 2], [2, 2], [6], [1, 5], [6], [1], [2]],\n",
    "# )"
   ]
  },
  {
   "cell_type": "code",
   "execution_count": 14,
   "metadata": {},
   "outputs": [],
   "source": [
    "non_duck = Nonogram(\n",
    "    [[3], [3], [1, 1], [7], [1, 3], [1, 1], [2, 2]],\n",
    "    [[2], [1, 1], [2, 4], [5], [2, 4], [1, 1], [2]],\n",
    ")"
   ]
  },
  {
   "cell_type": "code",
   "execution_count": 191,
   "metadata": {},
   "outputs": [],
   "source": [
    "# non_duck = Nonogram(\n",
    "#     [\n",
    "#         [10],\n",
    "#         [3, 3],\n",
    "#         [2, 1, 1],\n",
    "#         [1, 2, 1, 1],\n",
    "#         [1, 2, 1],\n",
    "#         [1, 2, 1],\n",
    "#         [1, 2, 1, 1],\n",
    "#         [2, 1, 2],\n",
    "#         [3, 3],\n",
    "#         [10],\n",
    "#     ],\n",
    "#     # [[10], [3, 3], [2, 2, 2], [1, 4, 1], [1, 1, 1, 1], [1, 1], [1, 1, 1, 1], [2, 1, 1, 2], [3, 3], [10]]\n",
    "#     [[10], [3, 3], [2, 1, 1, 2], [1, 1, 1, 1], [1, 1], [1, 1, 1, 1], [1, 4, 1], [2, 2, 2], [3, 3], [10]],\n",
    "# )"
   ]
  },
  {
   "cell_type": "code",
   "execution_count": 15,
   "metadata": {},
   "outputs": [],
   "source": [
    "num_generations = 200\n",
    "sol_per_pop = 200\n",
    "mutation_percent_genes = 12\n",
    "num_parents_mating = 100"
   ]
  },
  {
   "cell_type": "code",
   "execution_count": 16,
   "metadata": {},
   "outputs": [
    {
     "name": "stdout",
     "output_type": "stream",
     "text": [
      "Generation 1: Best Fitness = -7\n",
      "Generation 2: Best Fitness = -7\n",
      "Generation 3: Best Fitness = -7\n",
      "Generation 4: Best Fitness = -6\n",
      "Generation 5: Best Fitness = -5\n",
      "Generation 6: Best Fitness = -4\n",
      "Generation 7: Best Fitness = -4\n",
      "Generation 8: Best Fitness = -4\n",
      "Generation 9: Best Fitness = -4\n",
      "Generation 10: Best Fitness = -4\n",
      "Generation 11: Best Fitness = -4\n",
      "Generation 12: Best Fitness = -4\n",
      "Generation 13: Best Fitness = -4\n",
      "Generation 14: Best Fitness = -4\n",
      "Generation 15: Best Fitness = -4\n",
      "Generation 16: Best Fitness = -4\n",
      "Generation 17: Best Fitness = -4\n",
      "Generation 18: Best Fitness = -4\n",
      "Generation 19: Best Fitness = -4\n",
      "Generation 20: Best Fitness = -3\n",
      "Generation 21: Best Fitness = -3\n",
      "Generation 22: Best Fitness = -3\n",
      "Generation 23: Best Fitness = -3\n",
      "Generation 24: Best Fitness = -3\n",
      "Generation 25: Best Fitness = -2\n",
      "Generation 26: Best Fitness = -2\n",
      "Generation 27: Best Fitness = -1\n",
      "Generation 28: Best Fitness = -1\n",
      "Generation 29: Best Fitness = -1\n",
      "Generation 30: Best Fitness = -1\n",
      "Generation 31: Best Fitness = -1\n",
      "Generation 32: Best Fitness = -1\n",
      "Generation 33: Best Fitness = -1\n",
      "Generation 34: Best Fitness = -1\n",
      "Generation 35: Best Fitness = -1\n",
      "Generation 36: Best Fitness = -1\n",
      "Generation 37: Best Fitness = -1\n",
      "Generation 38: Best Fitness = -1\n",
      "Generation 39: Best Fitness = -1\n",
      "Generation 40: Best Fitness = -1\n",
      "Generation 41: Best Fitness = 0\n",
      "Generation 42: Best Fitness = 0\n",
      "Generation 43: Best Fitness = 0\n",
      "Generation 44: Best Fitness = 0\n",
      "Generation 45: Best Fitness = 0\n",
      "Generation 46: Best Fitness = 0\n",
      "Generation 47: Best Fitness = 0\n",
      "Generation 48: Best Fitness = 0\n",
      "Generation 49: Best Fitness = 0\n",
      "Generation 50: Best Fitness = 0\n",
      "Generation 51: Best Fitness = 0\n",
      "Generation 52: Best Fitness = 0\n",
      "Generation 53: Best Fitness = 0\n",
      "Generation 54: Best Fitness = 0\n",
      "Generation 55: Best Fitness = 0\n",
      "Generation 56: Best Fitness = 0\n",
      "Generation 57: Best Fitness = 0\n",
      "Generation 58: Best Fitness = 0\n",
      "Generation 59: Best Fitness = 0\n",
      "Generation 60: Best Fitness = 0\n",
      "Generation 61: Best Fitness = 0\n",
      "Generation 62: Best Fitness = 0\n",
      "Generation 63: Best Fitness = 0\n",
      "Generation 64: Best Fitness = 0\n",
      "Generation 65: Best Fitness = 0\n",
      "Generation 66: Best Fitness = 0\n",
      "Generation 67: Best Fitness = 0\n",
      "Generation 68: Best Fitness = 0\n",
      "Generation 69: Best Fitness = 0\n",
      "Generation 70: Best Fitness = 0\n",
      "Generation 71: Best Fitness = 0\n",
      "Generation 72: Best Fitness = 0\n",
      "Generation 73: Best Fitness = 0\n",
      "Generation 74: Best Fitness = 0\n",
      "Generation 75: Best Fitness = 0\n",
      "Generation 76: Best Fitness = 0\n",
      "Generation 77: Best Fitness = 0\n",
      "Generation 78: Best Fitness = 0\n",
      "Generation 79: Best Fitness = 0\n",
      "Generation 80: Best Fitness = 0\n",
      "Generation 81: Best Fitness = 0\n",
      "Generation 82: Best Fitness = 0\n",
      "Generation 83: Best Fitness = 0\n",
      "Generation 84: Best Fitness = 0\n",
      "Generation 85: Best Fitness = 0\n",
      "Generation 86: Best Fitness = 0\n",
      "Generation 87: Best Fitness = 0\n",
      "Generation 88: Best Fitness = 0\n",
      "Generation 89: Best Fitness = 0\n",
      "Generation 90: Best Fitness = 0\n",
      "Generation 91: Best Fitness = 0\n",
      "Generation 92: Best Fitness = 0\n",
      "Generation 93: Best Fitness = 0\n",
      "Generation 94: Best Fitness = 0\n",
      "Generation 95: Best Fitness = 0\n",
      "Generation 96: Best Fitness = 0\n",
      "Generation 97: Best Fitness = 0\n",
      "Generation 98: Best Fitness = 0\n",
      "Generation 99: Best Fitness = 0\n",
      "Generation 100: Best Fitness = 0\n",
      "Generation 101: Best Fitness = 0\n",
      "Generation 102: Best Fitness = 0\n",
      "Generation 103: Best Fitness = 0\n",
      "Generation 104: Best Fitness = 0\n",
      "Generation 105: Best Fitness = 0\n",
      "Generation 106: Best Fitness = 0\n",
      "Generation 107: Best Fitness = 0\n",
      "Generation 108: Best Fitness = 0\n",
      "Generation 109: Best Fitness = 0\n",
      "Generation 110: Best Fitness = 0\n",
      "Generation 111: Best Fitness = 0\n",
      "Generation 112: Best Fitness = 0\n",
      "Generation 113: Best Fitness = 0\n",
      "Generation 114: Best Fitness = 0\n",
      "Generation 115: Best Fitness = 0\n",
      "Generation 116: Best Fitness = 0\n",
      "Generation 117: Best Fitness = 0\n",
      "Generation 118: Best Fitness = 0\n",
      "Generation 119: Best Fitness = 0\n",
      "Generation 120: Best Fitness = 0\n",
      "Generation 121: Best Fitness = 0\n",
      "Generation 122: Best Fitness = 0\n",
      "Generation 123: Best Fitness = 0\n",
      "Generation 124: Best Fitness = 0\n",
      "Generation 125: Best Fitness = 0\n",
      "Generation 126: Best Fitness = 0\n",
      "Generation 127: Best Fitness = 0\n",
      "Generation 128: Best Fitness = 0\n",
      "Generation 129: Best Fitness = 0\n",
      "Generation 130: Best Fitness = 0\n",
      "Generation 131: Best Fitness = 0\n",
      "Generation 132: Best Fitness = 0\n",
      "Generation 133: Best Fitness = 0\n",
      "Generation 134: Best Fitness = 0\n",
      "Generation 135: Best Fitness = 0\n",
      "Generation 136: Best Fitness = 0\n",
      "Generation 137: Best Fitness = 0\n",
      "Generation 138: Best Fitness = 0\n",
      "Generation 139: Best Fitness = 0\n",
      "Generation 140: Best Fitness = 0\n",
      "Generation 141: Best Fitness = 0\n",
      "Generation 142: Best Fitness = 0\n",
      "Generation 143: Best Fitness = 0\n",
      "Generation 144: Best Fitness = 0\n",
      "Generation 145: Best Fitness = 0\n",
      "Generation 146: Best Fitness = 0\n",
      "Generation 147: Best Fitness = 0\n",
      "Generation 148: Best Fitness = 0\n",
      "Generation 149: Best Fitness = 0\n",
      "Generation 150: Best Fitness = 0\n",
      "Generation 151: Best Fitness = 0\n",
      "Generation 152: Best Fitness = 0\n",
      "Generation 153: Best Fitness = 0\n",
      "Generation 154: Best Fitness = 0\n",
      "Generation 155: Best Fitness = 0\n",
      "Generation 156: Best Fitness = 0\n",
      "Generation 157: Best Fitness = 0\n",
      "Generation 158: Best Fitness = 0\n",
      "Generation 159: Best Fitness = 0\n",
      "Generation 160: Best Fitness = 0\n",
      "Generation 161: Best Fitness = 0\n",
      "Generation 162: Best Fitness = 0\n",
      "Generation 163: Best Fitness = 0\n",
      "Generation 164: Best Fitness = 0\n",
      "Generation 165: Best Fitness = 0\n",
      "Generation 166: Best Fitness = 0\n",
      "Generation 167: Best Fitness = 0\n"
     ]
    },
    {
     "name": "stderr",
     "output_type": "stream",
     "text": [
      "2024-06-21 13:15:07,802 - matplotlib.legend - WARNING - No artists with labels found to put in legend.  Note that artists whose label start with an underscore are ignored when legend() is called with no argument.\n"
     ]
    },
    {
     "name": "stdout",
     "output_type": "stream",
     "text": [
      "Generation 168: Best Fitness = 0\n",
      "Generation 169: Best Fitness = 0\n",
      "Generation 170: Best Fitness = 0\n",
      "Generation 171: Best Fitness = 0\n",
      "Generation 172: Best Fitness = 0\n",
      "Generation 173: Best Fitness = 0\n",
      "Generation 174: Best Fitness = 0\n",
      "Generation 175: Best Fitness = 0\n",
      "Generation 176: Best Fitness = 0\n",
      "Generation 177: Best Fitness = 0\n",
      "Generation 178: Best Fitness = 0\n",
      "Generation 179: Best Fitness = 0\n",
      "Generation 180: Best Fitness = 0\n",
      "Generation 181: Best Fitness = 0\n",
      "Generation 182: Best Fitness = 0\n",
      "Generation 183: Best Fitness = 0\n",
      "Generation 184: Best Fitness = 0\n",
      "Generation 185: Best Fitness = 0\n",
      "Generation 186: Best Fitness = 0\n",
      "Generation 187: Best Fitness = 0\n",
      "Generation 188: Best Fitness = 0\n",
      "Generation 189: Best Fitness = 0\n",
      "Generation 190: Best Fitness = 0\n",
      "Generation 191: Best Fitness = 0\n",
      "Generation 192: Best Fitness = 0\n",
      "Generation 193: Best Fitness = 0\n",
      "Generation 194: Best Fitness = 0\n",
      "Generation 195: Best Fitness = 0\n",
      "Generation 196: Best Fitness = 0\n",
      "Generation 197: Best Fitness = 0\n",
      "Generation 198: Best Fitness = 0\n",
      "Generation 199: Best Fitness = 0\n",
      "Generation 200: Best Fitness = 0\n"
     ]
    },
    {
     "data": {
      "image/png": "[encoded data removed]",
      "text/plain": [
       "<Figure size 640x480 with 1 Axes>"
      ]
     },
     "metadata": {},
     "output_type": "display_data"
    }
   ],
   "source": [
    "res = non_duck.runGA(\n",
    "    \"best_fit\",\n",
    "    num_generations,\n",
    "    sol_per_pop,\n",
    "    mutation_percent_genes,\n",
    "    num_parents_mating,\n",
    ")"
   ]
  },
  {
   "cell_type": "code",
   "execution_count": 28,
   "metadata": {},
   "outputs": [
    {
     "name": "stdout",
     "output_type": "stream",
     "text": [
      "{'best_solution_generation': 19, 'solution_fitness': 0, 'solution': array([3., 3., 6., 0., 3., 0., 0., 3., 6., 3., 2.])}\n"
     ]
    }
   ],
   "source": [
    "print(res)"
   ]
  },
  {
   "cell_type": "code",
   "execution_count": 6,
   "metadata": {},
   "outputs": [],
   "source": [
    "def plot_results(results):\n",
    "    plt.figure(figsize=(14, 7))\n",
    "\n",
    "    for fitness_func, data in results.items():\n",
    "        generations = [result[\"best_solution_generation\"] for result in data]\n",
    "        fitness_values = [result[\"solution_fitness\"] for result in data]\n",
    "        plt.plot(generations, fitness_values, label=fitness_func)\n",
    "\n",
    "    plt.xlabel(\"Nonogram Index\")\n",
    "    plt.ylabel(\"Fitness Value\")\n",
    "    plt.title(\"Comparison of Fitness Functions on Nonograms\")\n",
    "    plt.legend()\n",
    "    plt.show()"
   ]
  },
  {
   "cell_type": "code",
   "execution_count": 12,
   "metadata": {},
   "outputs": [],
   "source": [
    "def visualize_solution(solution, columns, rows):\n",
    "    nonogram = Nonogram(columns, rows, solution)\n",
    "    nonogram.visualize()"
   ]
  },
  {
   "cell_type": "code",
   "execution_count": 16,
   "metadata": {},
   "outputs": [
    {
     "data": {
      "text/plain": [
       "array([3., 3., 6., 0., 3., 0., 0., 3., 6., 3., 2.])"
      ]
     },
     "execution_count": 16,
     "metadata": {},
     "output_type": "execute_result"
    }
   ],
   "source": [
    "res[\"solution\"]"
   ]
  },
  {
   "cell_type": "code",
   "execution_count": 10,
   "metadata": {},
   "outputs": [
    {
     "name": "stdout",
     "output_type": "stream",
     "text": [
      "[[0, 0, 0, 1, 1, 0, 0], [0, 0, 0, 1, 0, 0, 1], [1, 1, 0, 1, 1, 1, 1], [1, 1, 1, 1, 1, 0, 0], [1, 1, 0, 1, 1, 1, 1], [0, 0, 0, 1, 0, 0, 1], [0, 0, 1, 1, 0, 0, 0]]\n",
      "[0 0 0 1 1 0 0 0 0 0 1 0 0 1 1 1 0 1 1 1 1 1 1 1 1 1 0 0 1 1 0 1 1 1 1 0 0\n",
      " 0 1 0 0 1 0 0 1 1 0 0 0]\n"
     ]
    }
   ],
   "source": [
    "solution_vector = non_duck.vector_to_binary_grid(res[\"solution\"], non_duck.rows, non_duck.columns)\n",
    "print(solution_vector)\n",
    "solution_grid = non_duck.from_vector(solution_vector)"
   ]
  },
  {
   "cell_type": "code",
   "execution_count": 42,
   "metadata": {},
   "outputs": [
    {
     "data": {
      "text/plain": [
       "array([[0, 0, 0, 1, 1, 0, 0],\n",
       "       [0, 0, 0, 1, 0, 0, 1],\n",
       "       [1, 1, 0, 1, 1, 1, 1],\n",
       "       [1, 1, 1, 1, 1, 0, 0],\n",
       "       [1, 1, 0, 1, 1, 1, 1],\n",
       "       [0, 0, 0, 1, 0, 0, 1],\n",
       "       [0, 0, 1, 1, 0, 0, 0]])"
      ]
     },
     "execution_count": 42,
     "metadata": {},
     "output_type": "execute_result"
    }
   ],
   "source": [
    "solution_grid"
   ]
  },
  {
   "cell_type": "code",
   "execution_count": 17,
   "metadata": {},
   "outputs": [
    {
     "data": {
      "image/png": "[encoded data removed]",
      "text/plain": [
       "<Figure size 640x480 with 1 Axes>"
      ]
     },
     "metadata": {},
     "output_type": "display_data"
    }
   ],
   "source": [
    "visualize_solution(solution_grid, non_duck.columns, non_duck.rows)"
   ]
  },
  {
   "cell_type": "markdown",
   "metadata": {},
   "source": [
    "array([3., 3., 6., 0., 3., 0., 0., 3., 6., 3., 2.])\n"
   ]
  },
  {
   "cell_type": "code",
   "execution_count": 201,
   "metadata": {},
   "outputs": [],
   "source": [
    "# # run experiment 100 times and get average generation number to find best solution\n",
    "\n",
    "# best_fit = []\n",
    "# num_solutions = 0\n",
    "\n",
    "# for i in range(100):\n",
    "#     res = non_duck.runGA(\n",
    "#         \"best_fit\",\n",
    "#         num_generations,\n",
    "#         sol_per_pop,\n",
    "#         mutation_percent_genes,\n",
    "#         num_parents_mating,\n",
    "#     )\n",
    "#     print(res[\"best_solution_generation\"])\n",
    "#     best_fit.append(res[\"best_solution_generation\"])\n",
    "#     if res[\"best_solution_generation\"] < 3000:\n",
    "#         num_solutions += 1\n",
    "\n",
    "# print(np.mean(best_fit))\n",
    "# print(num_solutions)"
   ]
  },
  {
   "cell_type": "code",
   "execution_count": 202,
   "metadata": {},
   "outputs": [],
   "source": [
    "# #### Run Experiments ####\n",
    "\n",
    "# nonograms = [\n",
    "#     non_duck, non_5\n",
    "# ]\n",
    "\n",
    "# fitness_funcs = [\n",
    "#     \"fitness\",\n",
    "#     \"fitness_advanced\",\n",
    "#     \"fitness_another\",\n",
    "#     \"best_fit\",\n",
    "# ]\n",
    "\n",
    "# num_generations = [100, 500, 1000]\n",
    "\n",
    "# for fitness_func in fitness_funcs:\n",
    "#     print(f\"Running {fitness_func}...\")\n",
    "#     for nonogram in nonograms:\n",
    "#         print(f\"Running {nonogram}...\")\n",
    "#         for num_gen in num_generations:\n",
    "#             print(f\"Running {num_gen}...\")\n",
    "#             res = nonogram.runGA(\n",
    "#                 fitness_func,\n",
    "#                 num_gen,\n",
    "#                 sol_per_pop,\n",
    "#                 mutation_percent_genes,\n",
    "#                 num_parents_mating,\n",
    "#             )\n",
    "#             print(res)"
   ]
  },
  {
   "cell_type": "code",
   "execution_count": 4,
   "metadata": {},
   "outputs": [],
   "source": [
    "non = Nonogram(\n",
    "    [[3], [1, 3], [1, 1], [2, 1], [1]],\n",
    "    [[4], [1], [2], [2], [4]]\n",
    ")"
   ]
  },
  {
   "cell_type": "code",
   "execution_count": 16,
   "metadata": {},
   "outputs": [],
   "source": [
    "res2 = non.runSwarm(\"best_fit\", 1000, 1.5, 0.8, 0.9, 2, 2)"
   ]
  },
  {
   "cell_type": "code",
   "execution_count": 17,
   "metadata": {},
   "outputs": [
    {
     "data": {
      "text/plain": [
       "{'best_solution_generation': 17,\n",
       " 'solution_fitness': 5.0,\n",
       " 'solution': array([0.75971259, 2.75748819, 1.0343579 , 4.35046229, 0.49398538])}"
      ]
     },
     "execution_count": 17,
     "metadata": {},
     "output_type": "execute_result"
    }
   ],
   "source": [
    "res2"
   ]
  },
  {
   "cell_type": "code",
   "execution_count": 14,
   "metadata": {},
   "outputs": [
    {
     "data": {
      "image/png": "[encoded data removed]",
      "text/plain": [
       "<Figure size 640x480 with 1 Axes>"
      ]
     },
     "metadata": {},
     "output_type": "display_data"
    }
   ],
   "source": [
    "visualize_solution(res2[\"solution\"], non.columns, non.rows)"
   ]
  },
  {
   "cell_type": "code",
   "execution_count": 18,
   "metadata": {},
   "outputs": [],
   "source": [
    "def convert_solution_to_grid(self, solution):\n",
    "    grid = np.zeros((len(self.rows), len(self.columns)), dtype=int)\n",
    "\n",
    "    solution = np.round(solution).astype(int)\n",
    "    iterator = 0\n",
    "\n",
    "    for i, row_blocks in enumerate(self.rows):\n",
    "        for block in row_blocks:\n",
    "            start_pos = solution[iterator]\n",
    "            iterator += 1\n",
    "            if start_pos + block <= len(self.columns):\n",
    "                grid[i, start_pos : start_pos + block] = 1\n",
    "\n",
    "    return grid"
   ]
  },
  {
   "cell_type": "code",
   "execution_count": 19,
   "metadata": {},
   "outputs": [],
   "source": [
    "sol = convert_solution_to_grid(non, res2[\"solution\"])"
   ]
  },
  {
   "cell_type": "code",
   "execution_count": 20,
   "metadata": {},
   "outputs": [
    {
     "data": {
      "text/plain": [
       "array([[0, 1, 1, 1, 1],\n",
       "       [0, 0, 0, 1, 0],\n",
       "       [0, 1, 1, 0, 0],\n",
       "       [0, 0, 0, 0, 0],\n",
       "       [1, 1, 1, 1, 0]])"
      ]
     },
     "execution_count": 20,
     "metadata": {},
     "output_type": "execute_result"
    }
   ],
   "source": [
    "sol"
   ]
  },
  {
   "cell_type": "code",
   "execution_count": 21,
   "metadata": {},
   "outputs": [
    {
     "data": {
      "image/png": "[encoded data removed]",
      "text/plain": [
       "<Figure size 640x480 with 1 Axes>"
      ]
     },
     "metadata": {},
     "output_type": "display_data"
    }
   ],
   "source": [
    "visualize_solution(sol, non.columns, non.rows)"
   ]
  }
 ],
 "metadata": {
  "kernelspec": {
   "display_name": "Python 3",
   "language": "python",
   "name": "python3"
  },
  "language_info": {
   "codemirror_mode": {
    "name": "ipython",
    "version": 3
   },
   "file_extension": ".py",
   "mimetype": "text/x-python",
   "name": "python",
   "nbconvert_exporter": "python",
   "pygments_lexer": "ipython3",
   "version": "3.10.7"
  }
 },
 "nbformat": 4,
 "nbformat_minor": 2
}
