{
 "cells": [
  {
   "cell_type": "code",
   "execution_count": 187,
   "metadata": {},
   "outputs": [],
   "source": [
    "import numpy as np\n",
    "import pygad\n",
    "import json\n",
    "import matplotlib.pyplot as plt\n",
    "from nonograms import Nonogram"
   ]
  },
  {
   "cell_type": "code",
   "execution_count": 188,
   "metadata": {},
   "outputs": [],
   "source": [
    "# def run_experiments(\n",
    "#     nonograms,\n",
    "#     fitness_funcs,\n",
    "#     num_generations,\n",
    "#     sol_per_pop,\n",
    "#     mutation_percent_genes,\n",
    "#     num_parents_mating,\n",
    "# ):\n",
    "#     results = {}\n",
    "#     for fitness_func in fitness_funcs:\n",
    "#         results[fitness_func] = []\n",
    "#         for nonogram_data in nonograms:\n",
    "#             columns = nonogram_data[\"columns\"]\n",
    "#             rows = nonogram_data[\"rows\"]\n",
    "#             sol = nonogram_data[\"solution\"]\n",
    "#             nonogram = Nonogram(columns, rows, sol)\n",
    "#             result = nonogram.runGA(\n",
    "#                 fitness_func,\n",
    "#                 num_generations,\n",
    "#                 sol_per_pop,\n",
    "#                 mutation_percent_genes,\n",
    "#                 num_parents_mating,\n",
    "#             )\n",
    "#             results[fitness_func].append(result)\n",
    "#     return results"
   ]
  },
  {
   "cell_type": "code",
   "execution_count": 189,
   "metadata": {},
   "outputs": [],
   "source": [
    "# non_duck = Nonogram(\n",
    "#     [[1, 2], [3, 1], [1, 5], [7, 1], [5], [3], [4], [3], [0]],\n",
    "#     [[3], [2, 1], [3, 2], [2, 2], [6], [1, 5], [6], [1], [2]],\n",
    "# )"
   ]
  },
  {
   "cell_type": "code",
   "execution_count": 204,
   "metadata": {},
   "outputs": [],
   "source": [
    "non_duck = Nonogram(\n",
    "    [[3], [3], [1, 1], [7], [1, 3], [1, 1], [2, 2]],\n",
    "    [[2], [1, 1], [2, 4], [5], [2, 4], [1, 1], [2]],\n",
    ")"
   ]
  },
  {
   "cell_type": "code",
   "execution_count": 191,
   "metadata": {},
   "outputs": [],
   "source": [
    "# non_duck = Nonogram(\n",
    "#     [\n",
    "#         [10],\n",
    "#         [3, 3],\n",
    "#         [2, 1, 1],\n",
    "#         [1, 2, 1, 1],\n",
    "#         [1, 2, 1],\n",
    "#         [1, 2, 1],\n",
    "#         [1, 2, 1, 1],\n",
    "#         [2, 1, 2],\n",
    "#         [3, 3],\n",
    "#         [10],\n",
    "#     ],\n",
    "#     # [[10], [3, 3], [2, 2, 2], [1, 4, 1], [1, 1, 1, 1], [1, 1], [1, 1, 1, 1], [2, 1, 1, 2], [3, 3], [10]]\n",
    "#     [[10], [3, 3], [2, 1, 1, 2], [1, 1, 1, 1], [1, 1], [1, 1, 1, 1], [1, 4, 1], [2, 2, 2], [3, 3], [10]],\n",
    "# )"
   ]
  },
  {
   "cell_type": "code",
   "execution_count": 192,
   "metadata": {},
   "outputs": [],
   "source": [
    "# num_generations = 5000\n",
    "# sol_per_pop = 200\n",
    "# mutation_percent_genes = 12\n",
    "# num_parents_mating = 100"
   ]
  },
  {
   "cell_type": "code",
   "execution_count": 193,
   "metadata": {},
   "outputs": [
    {
     "name": "stderr",
     "output_type": "stream",
     "text": [
      "2024-06-18 13:56:23,212 - matplotlib.legend - WARNING - No artists with labels found to put in legend.  Note that artists whose label start with an underscore are ignored when legend() is called with no argument.\n"
     ]
    },
    {
     "data": {
      "image/png": "[encoded data removed]",
      "text/plain": [
       "<Figure size 640x480 with 1 Axes>"
      ]
     },
     "metadata": {},
     "output_type": "display_data"
    }
   ],
   "source": [
    "# res = non_duck.runGA(\n",
    "#     \"best_fit\",\n",
    "#     num_generations,\n",
    "#     sol_per_pop,\n",
    "#     mutation_percent_genes,\n",
    "#     num_parents_mating,\n",
    "# )"
   ]
  },
  {
   "cell_type": "code",
   "execution_count": 194,
   "metadata": {},
   "outputs": [
    {
     "name": "stdout",
     "output_type": "stream",
     "text": [
      "{'best_solution_generation': 3007, 'solution_fitness': -6.0, 'solution': array([0., 7., 0., 0., 1., 6., 8., 7., 6., 9., 9., 9., 2., 3., 5., 4., 6.,\n",
      "       2., 2., 9., 8., 0., 8., 0., 7., 0.])}\n"
     ]
    }
   ],
   "source": [
    "print(res)"
   ]
  },
  {
   "cell_type": "code",
   "execution_count": 195,
   "metadata": {},
   "outputs": [],
   "source": [
    "def plot_results(results):\n",
    "    plt.figure(figsize=(14, 7))\n",
    "\n",
    "    for fitness_func, data in results.items():\n",
    "        generations = [result[\"best_solution_generation\"] for result in data]\n",
    "        fitness_values = [result[\"solution_fitness\"] for result in data]\n",
    "        plt.plot(generations, fitness_values, label=fitness_func)\n",
    "\n",
    "    plt.xlabel(\"Nonogram Index\")\n",
    "    plt.ylabel(\"Fitness Value\")\n",
    "    plt.title(\"Comparison of Fitness Functions on Nonograms\")\n",
    "    plt.legend()\n",
    "    plt.show()"
   ]
  },
  {
   "cell_type": "code",
   "execution_count": 196,
   "metadata": {},
   "outputs": [],
   "source": [
    "def visualize_solution(solution, columns, rows):\n",
    "    nonogram = Nonogram(columns, rows, solution)\n",
    "    nonogram.visualize()"
   ]
  },
  {
   "cell_type": "code",
   "execution_count": 197,
   "metadata": {},
   "outputs": [
    {
     "data": {
      "text/plain": [
       "array([0., 7., 0., 0., 1., 6., 8., 7., 6., 9., 9., 9., 2., 3., 5., 4., 6.,\n",
       "       2., 2., 9., 8., 0., 8., 0., 7., 0.])"
      ]
     },
     "execution_count": 197,
     "metadata": {},
     "output_type": "execute_result"
    }
   ],
   "source": [
    "res[\"solution\"]"
   ]
  },
  {
   "cell_type": "code",
   "execution_count": 198,
   "metadata": {},
   "outputs": [],
   "source": [
    "solution_vector = non_duck.vector_to_binary_grid(res[\"solution\"], non_duck.rows, non_duck.columns)\n",
    "solution_grid = non_duck.from_vector(solution_vector)"
   ]
  },
  {
   "cell_type": "code",
   "execution_count": 199,
   "metadata": {},
   "outputs": [
    {
     "data": {
      "text/plain": [
       "array([[1, 1, 1, 1, 1, 1, 1, 1, 1, 1],\n",
       "       [1, 1, 1, 0, 0, 0, 0, 1, 1, 1],\n",
       "       [1, 1, 0, 0, 0, 0, 1, 0, 1, 1],\n",
       "       [0, 0, 0, 0, 0, 0, 1, 1, 0, 1],\n",
       "       [0, 0, 1, 0, 0, 0, 0, 0, 0, 1],\n",
       "       [0, 0, 0, 1, 1, 1, 1, 0, 0, 0],\n",
       "       [0, 0, 1, 1, 1, 1, 0, 0, 0, 1],\n",
       "       [1, 1, 0, 0, 0, 0, 0, 0, 1, 1],\n",
       "       [1, 1, 1, 0, 0, 0, 0, 1, 1, 1],\n",
       "       [1, 1, 1, 1, 1, 1, 1, 1, 1, 1]])"
      ]
     },
     "execution_count": 199,
     "metadata": {},
     "output_type": "execute_result"
    }
   ],
   "source": [
    "solution_grid"
   ]
  },
  {
   "cell_type": "code",
   "execution_count": 200,
   "metadata": {},
   "outputs": [
    {
     "data": {
      "image/png": "[encoded data removed]",
      "text/plain": [
       "<Figure size 640x480 with 1 Axes>"
      ]
     },
     "metadata": {},
     "output_type": "display_data"
    }
   ],
   "source": [
    "visualize_solution(solution_grid, non_duck.columns, non_duck.rows)"
   ]
  },
  {
   "cell_type": "code",
   "execution_count": 201,
   "metadata": {},
   "outputs": [],
   "source": [
    "# # run experiment 100 times and get average generation number to find best solution\n",
    "\n",
    "# best_fit = []\n",
    "# num_solutions = 0\n",
    "\n",
    "# for i in range(100):\n",
    "#     res = non_duck.runGA(\n",
    "#         \"best_fit\",\n",
    "#         num_generations,\n",
    "#         sol_per_pop,\n",
    "#         mutation_percent_genes,\n",
    "#         num_parents_mating,\n",
    "#     )\n",
    "#     print(res[\"best_solution_generation\"])\n",
    "#     best_fit.append(res[\"best_solution_generation\"])\n",
    "#     if res[\"best_solution_generation\"] < 3000:\n",
    "#         num_solutions += 1\n",
    "\n",
    "# print(np.mean(best_fit))\n",
    "# print(num_solutions)"
   ]
  },
  {
   "cell_type": "code",
   "execution_count": 202,
   "metadata": {},
   "outputs": [],
   "source": [
    "# #### Run Experiments ####\n",
    "\n",
    "# nonograms = [\n",
    "#     non_duck, non_5\n",
    "# ]\n",
    "\n",
    "# fitness_funcs = [\n",
    "#     \"fitness\",\n",
    "#     \"fitness_advanced\",\n",
    "#     \"fitness_another\",\n",
    "#     \"best_fit\",\n",
    "# ]\n",
    "\n",
    "# num_generations = [100, 500, 1000]\n",
    "\n",
    "# for fitness_func in fitness_funcs:\n",
    "#     print(f\"Running {fitness_func}...\")\n",
    "#     for nonogram in nonograms:\n",
    "#         print(f\"Running {nonogram}...\")\n",
    "#         for num_gen in num_generations:\n",
    "#             print(f\"Running {num_gen}...\")\n",
    "#             res = nonogram.runGA(\n",
    "#                 fitness_func,\n",
    "#                 num_gen,\n",
    "#                 sol_per_pop,\n",
    "#                 mutation_percent_genes,\n",
    "#                 num_parents_mating,\n",
    "#             )\n",
    "#             print(res)"
   ]
  },
  {
   "cell_type": "code",
   "execution_count": 230,
   "metadata": {},
   "outputs": [],
   "source": [
    "non = Nonogram(\n",
    "    [[3], [1, 3], [1, 1], [2, 1], [1]],\n",
    "    [[4], [1], [2], [2], [4]]\n",
    ")"
   ]
  },
  {
   "cell_type": "code",
   "execution_count": 245,
   "metadata": {},
   "outputs": [],
   "source": [
    "res2 = non.runSwarm(\"fitness\", 10000, 1.5, 0.8, 0.9, 2, 2)"
   ]
  },
  {
   "cell_type": "code",
   "execution_count": 246,
   "metadata": {},
   "outputs": [
    {
     "data": {
      "text/plain": [
       "{'best_solution_generation': 1034,\n",
       " 'solution_fitness': 3.0,\n",
       " 'solution': array([[1, 0, 0, 0, 1],\n",
       "        [1, 1, 1, 1, 0],\n",
       "        [0, 1, 0, 1, 0],\n",
       "        [1, 0, 1, 1, 0],\n",
       "        [1, 1, 1, 0, 0]])}"
      ]
     },
     "execution_count": 246,
     "metadata": {},
     "output_type": "execute_result"
    }
   ],
   "source": [
    "res2"
   ]
  },
  {
   "cell_type": "code",
   "execution_count": 247,
   "metadata": {},
   "outputs": [
    {
     "data": {
      "image/png": "[encoded data removed]",
      "text/plain": [
       "<Figure size 640x480 with 1 Axes>"
      ]
     },
     "metadata": {},
     "output_type": "display_data"
    }
   ],
   "source": [
    "visualize_solution(res2[\"solution\"], non.columns, non.rows)"
   ]
  },
  {
   "cell_type": "code",
   "execution_count": 242,
   "metadata": {},
   "outputs": [],
   "source": [
    "def convert_solution_to_grid(self, solution):\n",
    "    grid = np.zeros((len(self.rows), len(self.columns)), dtype=int)\n",
    "\n",
    "    solution = np.round(solution).astype(int)\n",
    "    iterator = 0\n",
    "\n",
    "    for i, row_blocks in enumerate(self.rows):\n",
    "        for block in row_blocks:\n",
    "            start_pos = solution[iterator]\n",
    "            iterator += 1\n",
    "            if start_pos + block <= len(self.columns):\n",
    "                grid[i, start_pos : start_pos + block] = 1\n",
    "\n",
    "    return grid"
   ]
  },
  {
   "cell_type": "code",
   "execution_count": 243,
   "metadata": {},
   "outputs": [],
   "source": [
    "sol = convert_solution_to_grid(non, res2[\"solution\"])"
   ]
  },
  {
   "cell_type": "code",
   "execution_count": 244,
   "metadata": {},
   "outputs": [
    {
     "data": {
      "text/plain": [
       "array([[0, 0, 0, 0, 0],\n",
       "       [0, 0, 0, 0, 1],\n",
       "       [0, 0, 0, 1, 1],\n",
       "       [0, 0, 0, 0, 0],\n",
       "       [0, 0, 0, 0, 0]])"
      ]
     },
     "execution_count": 244,
     "metadata": {},
     "output_type": "execute_result"
    }
   ],
   "source": [
    "sol"
   ]
  },
  {
   "cell_type": "code",
   "execution_count": 236,
   "metadata": {},
   "outputs": [
    {
     "data": {
      "image/png": "[encoded data removed]",
      "text/plain": [
       "<Figure size 640x480 with 1 Axes>"
      ]
     },
     "metadata": {},
     "output_type": "display_data"
    }
   ],
   "source": [
    "visualize_solution(sol, non.columns, non.rows)"
   ]
  }
 ],
 "metadata": {
  "kernelspec": {
   "display_name": "Python 3",
   "language": "python",
   "name": "python3"
  },
  "language_info": {
   "codemirror_mode": {
    "name": "ipython",
    "version": 3
   },
   "file_extension": ".py",
   "mimetype": "text/x-python",
   "name": "python",
   "nbconvert_exporter": "python",
   "pygments_lexer": "ipython3",
   "version": "3.10.7"
  }
 },
 "nbformat": 4,
 "nbformat_minor": 2
}
